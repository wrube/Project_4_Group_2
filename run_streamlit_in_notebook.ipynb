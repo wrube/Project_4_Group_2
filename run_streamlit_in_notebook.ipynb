{
 "cells": [
  {
   "cell_type": "code",
   "execution_count": 5,
   "metadata": {},
   "outputs": [
    {
     "name": "stdout",
     "output_type": "stream",
     "text": [
      "Streamlit app is running. Check the output above for the URL.\n"
     ]
    }
   ],
   "source": [
    "import subprocess\n",
    "\n",
    "# Define the command to run the Streamlit app\n",
    "command = [\"streamlit\", \"run\", \"streamlit_app.py\"]\n",
    "\n",
    "# Use subprocess to run the Streamlit app\n",
    "process = subprocess.Popen(command)\n",
    "\n",
    "# Display a message with the URL\n",
    "print(\"Streamlit app is running. Check the output above for the URL.\")"
   ]
  },
  {
   "cell_type": "code",
   "execution_count": 6,
   "metadata": {},
   "outputs": [
    {
     "name": "stdout",
     "output_type": "stream",
     "text": [
      "Streamlit app has been stopped.\n"
     ]
    }
   ],
   "source": [
    "# Terminate the Streamlit process\n",
    "process.terminate()\n",
    "\n",
    "# Ensure the process has ended\n",
    "try:\n",
    "    process.wait(timeout=5)\n",
    "except subprocess.TimeoutExpired:\n",
    "    process.kill()\n",
    "\n",
    "print(\"Streamlit app has been stopped.\")"
   ]
  }
 ],
 "metadata": {
  "kernelspec": {
   "display_name": "dev",
   "language": "python",
   "name": "python3"
  },
  "language_info": {
   "codemirror_mode": {
    "name": "ipython",
    "version": 3
   },
   "file_extension": ".py",
   "mimetype": "text/x-python",
   "name": "python",
   "nbconvert_exporter": "python",
   "pygments_lexer": "ipython3",
   "version": "3.10.9"
  }
 },
 "nbformat": 4,
 "nbformat_minor": 2
}
