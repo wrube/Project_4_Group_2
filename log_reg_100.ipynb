{
 "cells": [
  {
   "cell_type": "code",
   "execution_count": 15,
   "metadata": {},
   "outputs": [],
   "source": [
    "#Libraries/Dependencies\n",
    "import matplotlib.pyplot as plt\n",
    "import numpy as np\n",
    "import pandas as pd\n",
    "\n",
    "from sklearn.model_selection import train_test_split\n",
    "from sklearn.linear_model import LogisticRegression\n",
    "from sklearn.metrics import accuracy_score\n",
    "from sklearn.metrics import classification_report\n",
    "from sklearn.metrics import confusion_matrix, ConfusionMatrixDisplay\n",
    "\n",
    "from sklearn.preprocessing import StandardScaler, OneHotEncoder\n",
    "from sklearn.compose import ColumnTransformer\n",
    "from sklearn.pipeline import Pipeline\n"
   ]
  },
  {
   "cell_type": "code",
   "execution_count": 16,
   "metadata": {},
   "outputs": [
    {
     "data": {
      "text/html": [
       "<div>\n",
       "<style scoped>\n",
       "    .dataframe tbody tr th:only-of-type {\n",
       "        vertical-align: middle;\n",
       "    }\n",
       "\n",
       "    .dataframe tbody tr th {\n",
       "        vertical-align: top;\n",
       "    }\n",
       "\n",
       "    .dataframe thead th {\n",
       "        text-align: right;\n",
       "    }\n",
       "</style>\n",
       "<table border=\"1\" class=\"dataframe\">\n",
       "  <thead>\n",
       "    <tr style=\"text-align: right;\">\n",
       "      <th></th>\n",
       "      <th>Unnamed: 0</th>\n",
       "      <th>Amount</th>\n",
       "      <th>Use Chip</th>\n",
       "      <th>Merchant State</th>\n",
       "      <th>Errors?</th>\n",
       "      <th>Is Fraud?</th>\n",
       "      <th>Per Capita Income - Zipcode</th>\n",
       "      <th>Yearly Income - Person</th>\n",
       "      <th>Total Debt</th>\n",
       "      <th>FICO Score</th>\n",
       "      <th>...</th>\n",
       "      <th>Has Chip</th>\n",
       "      <th>Cards Issued</th>\n",
       "      <th>International</th>\n",
       "      <th>Online</th>\n",
       "      <th>Age_at_transaction</th>\n",
       "      <th>income_to_debt</th>\n",
       "      <th>day_of_week</th>\n",
       "      <th>timestamp</th>\n",
       "      <th>time_of_day</th>\n",
       "      <th>distances</th>\n",
       "    </tr>\n",
       "  </thead>\n",
       "  <tbody>\n",
       "    <tr>\n",
       "      <th>0</th>\n",
       "      <td>0</td>\n",
       "      <td>134.09</td>\n",
       "      <td>Swipe Transaction</td>\n",
       "      <td>CA</td>\n",
       "      <td>No Error</td>\n",
       "      <td>0</td>\n",
       "      <td>29278</td>\n",
       "      <td>59696</td>\n",
       "      <td>127613</td>\n",
       "      <td>787</td>\n",
       "      <td>...</td>\n",
       "      <td>1</td>\n",
       "      <td>2</td>\n",
       "      <td>0</td>\n",
       "      <td>0</td>\n",
       "      <td>36</td>\n",
       "      <td>0.467789</td>\n",
       "      <td>6</td>\n",
       "      <td>1.030861e+09</td>\n",
       "      <td>Morning</td>\n",
       "      <td>0.000000</td>\n",
       "    </tr>\n",
       "    <tr>\n",
       "      <th>1</th>\n",
       "      <td>1</td>\n",
       "      <td>38.48</td>\n",
       "      <td>Swipe Transaction</td>\n",
       "      <td>CA</td>\n",
       "      <td>No Error</td>\n",
       "      <td>0</td>\n",
       "      <td>29278</td>\n",
       "      <td>59696</td>\n",
       "      <td>127613</td>\n",
       "      <td>787</td>\n",
       "      <td>...</td>\n",
       "      <td>1</td>\n",
       "      <td>2</td>\n",
       "      <td>0</td>\n",
       "      <td>0</td>\n",
       "      <td>36</td>\n",
       "      <td>0.467789</td>\n",
       "      <td>6</td>\n",
       "      <td>1.030863e+09</td>\n",
       "      <td>Morning</td>\n",
       "      <td>33.540588</td>\n",
       "    </tr>\n",
       "    <tr>\n",
       "      <th>2</th>\n",
       "      <td>2</td>\n",
       "      <td>120.34</td>\n",
       "      <td>Swipe Transaction</td>\n",
       "      <td>CA</td>\n",
       "      <td>No Error</td>\n",
       "      <td>0</td>\n",
       "      <td>29278</td>\n",
       "      <td>59696</td>\n",
       "      <td>127613</td>\n",
       "      <td>787</td>\n",
       "      <td>...</td>\n",
       "      <td>1</td>\n",
       "      <td>2</td>\n",
       "      <td>0</td>\n",
       "      <td>0</td>\n",
       "      <td>36</td>\n",
       "      <td>0.467789</td>\n",
       "      <td>0</td>\n",
       "      <td>1.030948e+09</td>\n",
       "      <td>Morning</td>\n",
       "      <td>33.540588</td>\n",
       "    </tr>\n",
       "    <tr>\n",
       "      <th>3</th>\n",
       "      <td>3</td>\n",
       "      <td>128.95</td>\n",
       "      <td>Swipe Transaction</td>\n",
       "      <td>CA</td>\n",
       "      <td>No Error</td>\n",
       "      <td>0</td>\n",
       "      <td>29278</td>\n",
       "      <td>59696</td>\n",
       "      <td>127613</td>\n",
       "      <td>787</td>\n",
       "      <td>...</td>\n",
       "      <td>1</td>\n",
       "      <td>2</td>\n",
       "      <td>0</td>\n",
       "      <td>0</td>\n",
       "      <td>36</td>\n",
       "      <td>0.467789</td>\n",
       "      <td>0</td>\n",
       "      <td>1.030989e+09</td>\n",
       "      <td>Afternoon</td>\n",
       "      <td>33.540588</td>\n",
       "    </tr>\n",
       "    <tr>\n",
       "      <th>4</th>\n",
       "      <td>4</td>\n",
       "      <td>104.71</td>\n",
       "      <td>Swipe Transaction</td>\n",
       "      <td>CA</td>\n",
       "      <td>No Error</td>\n",
       "      <td>0</td>\n",
       "      <td>29278</td>\n",
       "      <td>59696</td>\n",
       "      <td>127613</td>\n",
       "      <td>787</td>\n",
       "      <td>...</td>\n",
       "      <td>1</td>\n",
       "      <td>2</td>\n",
       "      <td>0</td>\n",
       "      <td>0</td>\n",
       "      <td>36</td>\n",
       "      <td>0.467789</td>\n",
       "      <td>1</td>\n",
       "      <td>1.031034e+09</td>\n",
       "      <td>Morning</td>\n",
       "      <td>0.000000</td>\n",
       "    </tr>\n",
       "  </tbody>\n",
       "</table>\n",
       "<p>5 rows × 21 columns</p>\n",
       "</div>"
      ],
      "text/plain": [
       "   Unnamed: 0  Amount           Use Chip Merchant State   Errors?  Is Fraud?  \\\n",
       "0           0  134.09  Swipe Transaction             CA  No Error          0   \n",
       "1           1   38.48  Swipe Transaction             CA  No Error          0   \n",
       "2           2  120.34  Swipe Transaction             CA  No Error          0   \n",
       "3           3  128.95  Swipe Transaction             CA  No Error          0   \n",
       "4           4  104.71  Swipe Transaction             CA  No Error          0   \n",
       "\n",
       "   Per Capita Income - Zipcode  Yearly Income - Person  Total Debt  \\\n",
       "0                        29278                   59696      127613   \n",
       "1                        29278                   59696      127613   \n",
       "2                        29278                   59696      127613   \n",
       "3                        29278                   59696      127613   \n",
       "4                        29278                   59696      127613   \n",
       "\n",
       "   FICO Score  ...  Has Chip  Cards Issued  International  Online  \\\n",
       "0         787  ...         1             2              0       0   \n",
       "1         787  ...         1             2              0       0   \n",
       "2         787  ...         1             2              0       0   \n",
       "3         787  ...         1             2              0       0   \n",
       "4         787  ...         1             2              0       0   \n",
       "\n",
       "   Age_at_transaction  income_to_debt  day_of_week     timestamp  time_of_day  \\\n",
       "0                  36        0.467789            6  1.030861e+09      Morning   \n",
       "1                  36        0.467789            6  1.030863e+09      Morning   \n",
       "2                  36        0.467789            0  1.030948e+09      Morning   \n",
       "3                  36        0.467789            0  1.030989e+09    Afternoon   \n",
       "4                  36        0.467789            1  1.031034e+09      Morning   \n",
       "\n",
       "   distances  \n",
       "0   0.000000  \n",
       "1  33.540588  \n",
       "2  33.540588  \n",
       "3  33.540588  \n",
       "4   0.000000  \n",
       "\n",
       "[5 rows x 21 columns]"
      ]
     },
     "execution_count": 16,
     "metadata": {},
     "output_type": "execute_result"
    }
   ],
   "source": [
    "# Read the CSV file from the Resources folder into a Pandas DataFrame\n",
    "df = pd.read_csv(\"data/test_100.csv\")\n",
    "\n",
    "# Review the DataFrame\n",
    "df.head()"
   ]
  },
  {
   "cell_type": "code",
   "execution_count": 17,
   "metadata": {},
   "outputs": [
    {
     "data": {
      "text/plain": [
       "Is Fraud?\n",
       "0    1202369\n",
       "1       1266\n",
       "Name: count, dtype: int64"
      ]
     },
     "execution_count": 17,
     "metadata": {},
     "output_type": "execute_result"
    }
   ],
   "source": [
    "df['Is Fraud?'].value_counts()"
   ]
  },
  {
   "cell_type": "markdown",
   "metadata": {},
   "source": [
    "## Transformation of the data\n",
    "Scaling and dummies"
   ]
  },
  {
   "cell_type": "code",
   "execution_count": 18,
   "metadata": {},
   "outputs": [
    {
     "name": "stdout",
     "output_type": "stream",
     "text": [
      "Model Accuracy: 1.00\n"
     ]
    }
   ],
   "source": [
    "# Scale numerical values\n",
    "# Identify features\n",
    "binary_features = ['Has Chip', 'International', 'Online']\n",
    "continuous_features = ['Amount', 'Per Capita Income - Zipcode', 'Yearly Income - Person', 'Total Debt', 'FICO Score', 'Age_at_transaction', 'income_to_debt', 'timestamp', 'distances']\n",
    "categorical_features = ['Errors?', 'Use Chip', 'Merchant State', 'day_of_week', 'time_of_day']\n",
    "\n",
    "# Identify features\n",
    "binary_features = ['Has Chip', 'International', 'Online']\n",
    "continuous_features = ['Amount', 'Per Capita Income - Zipcode', 'Yearly Income - Person', 'Total Debt', 'FICO Score', 'Age_at_transaction', 'income_to_debt', 'timestamp', 'distances']\n",
    "categorical_features = ['Errors?', 'Use Chip', 'Merchant State', 'day_of_week', 'time_of_day']\n",
    "\n",
    "# Define preprocessor\n",
    "preprocessor = ColumnTransformer(\n",
    "    transformers=[\n",
    "        ('num', StandardScaler(), continuous_features),\n",
    "        ('cat', OneHotEncoder(handle_unknown='ignore'), categorical_features)\n",
    "    ],\n",
    "    remainder='passthrough'  # This will keep the binary features as they are\n",
    ")\n",
    "\n",
    "# Split data into features and target\n",
    "X = df.drop(columns=['Is Fraud?'])  # Features\n",
    "y = df['Is Fraud?']  # Target\n",
    "\n",
    "# Split data into training and testing sets\n",
    "X_train, X_test, y_train, y_test = train_test_split(X, y, test_size=0.2, random_state=42)\n",
    "\n",
    "# Create pipeline with preprocessor and logistic regression model\n",
    "pipeline = Pipeline(steps=[\n",
    "    ('preprocessor', preprocessor),\n",
    "    ('classifier', LogisticRegression())\n",
    "])\n",
    "\n",
    "# Train the model\n",
    "pipeline.fit(X_train, y_train)\n",
    "\n",
    "# Evaluate the model\n",
    "accuracy = pipeline.score(X_test, y_test)\n",
    "print(f\"Model Accuracy: {accuracy:.2f}\")"
   ]
  },
  {
   "cell_type": "code",
   "execution_count": 19,
   "metadata": {},
   "outputs": [
    {
     "name": "stdout",
     "output_type": "stream",
     "text": [
      "Confusion Matrix for Training Set:\n",
      "[[961866      0]\n",
      " [  1042      0]]\n"
     ]
    },
    {
     "data": {
      "image/png": "[encoded data removed]",
      "text/plain": [
       "<Figure size 640x480 with 2 Axes>"
      ]
     },
     "metadata": {},
     "output_type": "display_data"
    },
    {
     "name": "stdout",
     "output_type": "stream",
     "text": [
      "Confusion Matrix for Testing Set:\n",
      "[[240503      0]\n",
      " [   224      0]]\n"
     ]
    },
    {
     "data": {
      "image/png": "[encoded data removed]",
      "text/plain": [
       "<Figure size 640x480 with 2 Axes>"
      ]
     },
     "metadata": {},
     "output_type": "display_data"
    }
   ],
   "source": [
    "# Compute confusion matrix for training set\n",
    "train_pred = pipeline.predict(X_train)\n",
    "train_conf_matrix = confusion_matrix(y_train, train_pred)\n",
    "\n",
    "# Display confusion matrix for training set\n",
    "print(\"Confusion Matrix for Training Set:\")\n",
    "print(train_conf_matrix)\n",
    "\n",
    "# Plot confusion matrix for training set\n",
    "disp_train = ConfusionMatrixDisplay(confusion_matrix=train_conf_matrix, display_labels=pipeline.classes_)\n",
    "disp_train.plot()\n",
    "plt.title('Confusion Matrix for Training Set')\n",
    "plt.show()\n",
    "\n",
    "# Compute confusion matrix for testing set\n",
    "test_pred = pipeline.predict(X_test)\n",
    "test_conf_matrix = confusion_matrix(y_test, test_pred)\n",
    "\n",
    "# Display confusion matrix for testing set\n",
    "print(\"Confusion Matrix for Testing Set:\")\n",
    "print(test_conf_matrix)\n",
    "\n",
    "# Plot confusion matrix for testing set\n",
    "disp_test = ConfusionMatrixDisplay(confusion_matrix=test_conf_matrix, display_labels=pipeline.classes_)\n",
    "disp_test.plot()\n",
    "plt.title('Confusion Matrix for Testing Set')\n",
    "plt.show()"
   ]
  },
  {
   "cell_type": "code",
   "execution_count": 20,
   "metadata": {},
   "outputs": [
    {
     "name": "stderr",
     "output_type": "stream",
     "text": [
      "c:\\Users\\bosb0\\anaconda3.1\\envs\\dev\\lib\\site-packages\\sklearn\\metrics\\_classification.py:1469: UndefinedMetricWarning: Precision and F-score are ill-defined and being set to 0.0 in labels with no predicted samples. Use `zero_division` parameter to control this behavior.\n",
      "  _warn_prf(average, modifier, msg_start, len(result))\n",
      "c:\\Users\\bosb0\\anaconda3.1\\envs\\dev\\lib\\site-packages\\sklearn\\metrics\\_classification.py:1469: UndefinedMetricWarning: Precision and F-score are ill-defined and being set to 0.0 in labels with no predicted samples. Use `zero_division` parameter to control this behavior.\n",
      "  _warn_prf(average, modifier, msg_start, len(result))\n",
      "c:\\Users\\bosb0\\anaconda3.1\\envs\\dev\\lib\\site-packages\\sklearn\\metrics\\_classification.py:1469: UndefinedMetricWarning: Precision and F-score are ill-defined and being set to 0.0 in labels with no predicted samples. Use `zero_division` parameter to control this behavior.\n",
      "  _warn_prf(average, modifier, msg_start, len(result))\n",
      "c:\\Users\\bosb0\\anaconda3.1\\envs\\dev\\lib\\site-packages\\sklearn\\metrics\\_classification.py:1469: UndefinedMetricWarning: Precision and F-score are ill-defined and being set to 0.0 in labels with no predicted samples. Use `zero_division` parameter to control this behavior.\n",
      "  _warn_prf(average, modifier, msg_start, len(result))\n"
     ]
    },
    {
     "name": "stdout",
     "output_type": "stream",
     "text": [
      "Classification Report for Training Set:\n",
      "              precision    recall  f1-score   support\n",
      "\n",
      "           0       1.00      1.00      1.00    961866\n",
      "           1       0.00      0.00      0.00      1042\n",
      "\n",
      "    accuracy                           1.00    962908\n",
      "   macro avg       0.50      0.50      0.50    962908\n",
      "weighted avg       1.00      1.00      1.00    962908\n",
      "\n",
      "Classification Report for Testing Set:\n",
      "              precision    recall  f1-score   support\n",
      "\n",
      "           0       1.00      1.00      1.00    240503\n",
      "           1       0.00      0.00      0.00       224\n",
      "\n",
      "    accuracy                           1.00    240727\n",
      "   macro avg       0.50      0.50      0.50    240727\n",
      "weighted avg       1.00      1.00      1.00    240727\n",
      "\n"
     ]
    },
    {
     "name": "stderr",
     "output_type": "stream",
     "text": [
      "c:\\Users\\bosb0\\anaconda3.1\\envs\\dev\\lib\\site-packages\\sklearn\\metrics\\_classification.py:1469: UndefinedMetricWarning: Precision and F-score are ill-defined and being set to 0.0 in labels with no predicted samples. Use `zero_division` parameter to control this behavior.\n",
      "  _warn_prf(average, modifier, msg_start, len(result))\n",
      "c:\\Users\\bosb0\\anaconda3.1\\envs\\dev\\lib\\site-packages\\sklearn\\metrics\\_classification.py:1469: UndefinedMetricWarning: Precision and F-score are ill-defined and being set to 0.0 in labels with no predicted samples. Use `zero_division` parameter to control this behavior.\n",
      "  _warn_prf(average, modifier, msg_start, len(result))\n"
     ]
    }
   ],
   "source": [
    "# Generate classification report for training set\n",
    "train_classification_report = classification_report(y_train, train_pred)\n",
    "print(\"Classification Report for Training Set:\")\n",
    "print(train_classification_report)\n",
    "\n",
    "# Generate classification report for testing set\n",
    "test_classification_report = classification_report(y_test, test_pred)\n",
    "print(\"Classification Report for Testing Set:\")\n",
    "print(test_classification_report)"
   ]
  },
  {
   "cell_type": "code",
   "execution_count": 21,
   "metadata": {},
   "outputs": [
    {
     "ename": "SyntaxError",
     "evalue": "invalid syntax (1749535400.py, line 3)",
     "output_type": "error",
     "traceback": [
      "\u001b[1;36m  Cell \u001b[1;32mIn[21], line 3\u001b[1;36m\u001b[0m\n\u001b[1;33m    <...>,\u001b[0m\n\u001b[1;37m    ^\u001b[0m\n\u001b[1;31mSyntaxError\u001b[0m\u001b[1;31m:\u001b[0m invalid syntax\n"
     ]
    }
   ],
   "source": [
    "# Create a DataFrame with the scaled data\n",
    "df_scaled = pd.DataFrame(\n",
    "    <...>,\n",
    "    columns=[\"_\", \"_\", \"_\", \"_\"]\n",
    ")\n",
    "\n",
    "# Copy the index column\n",
    "<..._scaled>[\"<index>\"] = <...>.index\n",
    "\n",
    "# Set the Ticker column as index\n",
    "<..._scaled> = <..._scaled>.set_index(\"<index>\")\n",
    "\n",
    "# Display sample data\n",
    "<..._scaled>.head()"
   ]
  },
  {
   "cell_type": "code",
   "execution_count": null,
   "metadata": {},
   "outputs": [],
   "source": [
    "# Get dummy data\n",
    "<..._dummies> = pd.get_dummies(<df>[[\"1\", '2', '3']])\n",
    "oil_dummies.head()"
   ]
  },
  {
   "cell_type": "code",
   "execution_count": null,
   "metadata": {},
   "outputs": [],
   "source": [
    "#Concatenate dfs\n",
    "df_scaled = pd.concat([<1>, <2>], axis=1)\n",
    "\n",
    "# Display the sample data\n",
    "df_scaled.head()"
   ]
  },
  {
   "cell_type": "code",
   "execution_count": null,
   "metadata": {},
   "outputs": [],
   "source": [
    "# Separate the y variable, the labels\n",
    "y = df_scaled['Is Fraud?']\n",
    "\n",
    "# Separate the X variable, the features\n",
    "X = df_scaled.drop(columns=['Is Fraud?'])"
   ]
  },
  {
   "cell_type": "markdown",
   "metadata": {},
   "source": [
    "## Split and train data"
   ]
  },
  {
   "cell_type": "code",
   "execution_count": null,
   "metadata": {},
   "outputs": [],
   "source": [
    "# Split the data using train_test_split\n",
    "X_train, X_test, y_train, y_test = train_test_split(X, y)"
   ]
  },
  {
   "cell_type": "code",
   "execution_count": null,
   "metadata": {},
   "outputs": [],
   "source": [
    "# Instantiate the Logistic Regression model\n",
    "logistic_regression_model = LogisticRegression(random_state=1)\n",
    "\n",
    "# Fit the model using training data\n",
    "lr_model = logistic_regression_model.fit(X_train, y_train)"
   ]
  },
  {
   "cell_type": "code",
   "execution_count": null,
   "metadata": {},
   "outputs": [],
   "source": [
    "# Make a prediction using the testing data\n",
    "training_predictions = lr_model.predict(X_train)\n",
    "testing_predictions = logistic_regression_model.predict(X_test)"
   ]
  },
  {
   "cell_type": "markdown",
   "metadata": {},
   "source": [
    "## Confusion matrices and Classification reports\n",
    "\n",
    "Training set"
   ]
  },
  {
   "cell_type": "code",
   "execution_count": null,
   "metadata": {},
   "outputs": [],
   "source": [
    "# Generate a confusion matrix for the model (training)\n",
    "training_matrix = confusion_matrix(y_train, training_predictions)\n",
    "print(training_matrix)"
   ]
  },
  {
   "cell_type": "code",
   "execution_count": null,
   "metadata": {},
   "outputs": [],
   "source": [
    "# Print the classification report for the model (training)\n",
    "training_report = classification_report(y_train, training_predictions)\n",
    "\n",
    "# Print the training classification report\n",
    "print(training_report)"
   ]
  },
  {
   "cell_type": "markdown",
   "metadata": {},
   "source": [
    "Test set"
   ]
  },
  {
   "cell_type": "code",
   "execution_count": null,
   "metadata": {},
   "outputs": [],
   "source": [
    "# Generate a confusion matrix for the model (test)\n",
    "testing_matrix = confusion_matrix(y_test, testing_predictions)\n",
    "print(testing_matrix)"
   ]
  },
  {
   "cell_type": "code",
   "execution_count": null,
   "metadata": {},
   "outputs": [],
   "source": [
    "# Print the classification report for the model (test)\n",
    "testing_report = classification_report(y_test, testing_predictions)\n",
    "\n",
    "# Print the training classification report\n",
    "print(testing_report)"
   ]
  },
  {
   "cell_type": "markdown",
   "metadata": {},
   "source": [
    "## Analysis of Linear Regression Model"
   ]
  },
  {
   "cell_type": "markdown",
   "metadata": {},
   "source": [
    "- Compare training and test sets\n",
    "- Analyse accuracy of test set; is this a viable model?"
   ]
  }
 ],
 "metadata": {
  "kernelspec": {
   "display_name": "dev",
   "language": "python",
   "name": "python3"
  },
  "language_info": {
   "codemirror_mode": {
    "name": "ipython",
    "version": 3
   },
   "file_extension": ".py",
   "mimetype": "text/x-python",
   "name": "python",
   "nbconvert_exporter": "python",
   "pygments_lexer": "ipython3",
   "version": "3.10.13"
  }
 },
 "nbformat": 4,
 "nbformat_minor": 2
}
